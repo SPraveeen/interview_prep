{
 "cells": [
  {
   "cell_type": "markdown",
   "id": "bf28889a",
   "metadata": {},
   "source": [
    "- what is yield in python\n",
    "    - yield is a keyword in python that is used to return a generator object\n",
    "    - yield is used to create a generator function\n",
    "    - yield is used to create a generator object\n",
    "        - example   \n",
    "            def generator_function():\n",
    "                yield 1\n",
    "                yield 2\n",
    "                yield 3\n",
    "            "
   ]
  }
 ],
 "metadata": {
  "language_info": {
   "name": "python"
  }
 },
 "nbformat": 4,
 "nbformat_minor": 5
}
