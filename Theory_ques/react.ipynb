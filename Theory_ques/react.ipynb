{
 "cells": [
  {
   "cell_type": "markdown",
   "id": "1c0415ab",
   "metadata": {},
   "source": [
    "- what is react?\n",
    "    - React is a JavaScript library for building user interfaces, particularly single-page applications where you can create reusable UI components. It allows developers to build complex UIs from small, isolated pieces of code called \"components.\"\n",
    "- what is a component?\n",
    "    - A component in React is a self-contained piece of UI that can be reused throughout an application. Components can be either class-based or functional, and they can manage their own state and lifecycle methods."
   ]
  },
  {
   "cell_type": "markdown",
   "id": "df0de46f",
   "metadata": {},
   "source": []
  }
 ],
 "metadata": {
  "language_info": {
   "name": "python"
  }
 },
 "nbformat": 4,
 "nbformat_minor": 5
}
