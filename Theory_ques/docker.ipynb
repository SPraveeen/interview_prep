{
 "cells": [
  {
   "cell_type": "markdown",
   "id": "755cd469",
   "metadata": {},
   "source": [
    "- What is docker?\n",
    "    - docker is a dev tool which can help running applications in containers.[doubt]\n",
    "- What is a container?\n",
    "    - A container is a lightweight, standalone, executable package that includes everything needed to run a piece of software, including the code, runtime, libraries, and system tools.\n",
    "- What is a docker image?\n",
    "    - A docker image is a read-only template used to create containers. It contains the application code, libraries, dependencies, and other files needed to run the application.\n",
    "- What is a dockerfile?\n",
    "    - A Dockerfile is a text file that contains a set of instructions to build a Docker image. It specifies the base image, application code, dependencies, and configuration needed to create the image."
   ]
  },
  {
   "cell_type": "markdown",
   "id": "ebb1ae56",
   "metadata": {},
   "source": []
  }
 ],
 "metadata": {
  "language_info": {
   "name": "python"
  }
 },
 "nbformat": 4,
 "nbformat_minor": 5
}
