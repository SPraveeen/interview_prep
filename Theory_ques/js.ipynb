{
 "cells": [
  {
   "cell_type": "markdown",
   "id": "dc9f426d",
   "metadata": {},
   "source": [
    "- what is var,let,const in javascript?\n",
    "In JavaScript, `var`, `let`, and `const` are used to declare variables, but they have different scopes and behaviors:\n",
    "- `var`: \n",
    "  - Function-scoped or globally scoped.\n",
    "  - Can be re-declared and updated.\n",
    "  - Hoisted to the top of its scope, meaning it can be used before its declaration.\n",
    "- `let`:\n",
    "    - Block-scoped, meaning it is only accessible within the block it is defined.\n",
    "    - Can be updated but not re-declared in the same scope.\n",
    "    - Not hoisted in the same way as `var`, leading to a \"temporal dead zone\" until it is declared.\n",
    "- `const`:\n",
    "    - Block-scoped, similar to `let`.\n",
    "    - Cannot be updated or re-declared; must be initialized at the time of declaration.\n",
    "    - Useful for defining constants or immutable references."
   ]
  }
 ],
 "metadata": {
  "language_info": {
   "name": "python"
  }
 },
 "nbformat": 4,
 "nbformat_minor": 5
}
