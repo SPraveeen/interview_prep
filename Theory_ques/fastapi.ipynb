{
 "cells": [
  {
   "cell_type": "markdown",
   "id": "e30ef90f",
   "metadata": {},
   "source": [
    "- SessionLocal = sessionmaker(autocommit=False, autoflush=False,bind=engine)\n",
    "- what is autocommit and autoflush in sqlalchemy \n",
    "    - autocommit=False: This means that the session will not automatically commit any changes to the database. You will need to explicitly call session.commit() to save your changes.\n",
    "    - autoflush=False: This means that the session will not automatically flush any changes to the database. You will need to explicitly call session.flush() to save your changes."
   ]
  }
 ],
 "metadata": {
  "language_info": {
   "name": "python"
  }
 },
 "nbformat": 4,
 "nbformat_minor": 5
}
