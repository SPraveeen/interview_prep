{
 "cells": [
  {
   "cell_type": "markdown",
   "id": "cd4f4d79",
   "metadata": {},
   "source": [
    "- what is REST api?\n",
    "    - REST (Representational State Transfer) API is an architectural style for designing networked applications. It relies on a stateless, client-server communication model, where requests from clients to servers are made using standard HTTP methods such as GET, POST, PUT, DELETE, etc. REST APIs use URIs (Uniform Resource Identifiers) to identify resources and typically return data in formats like `JSON or XML`. The key principles of REST include:\n",
    "        - Statelessness: Each request from a client contains all the information needed to understand and process the request, without relying on stored context on the server.\n",
    "        - Client-Server Separation: The client and server are independent of each other, allowing for flexibility in development and deployment.\n",
    "        - Uniform Interface: REST APIs have a consistent and standardized way of interacting with resources, making it easier for developers to understand and use them.\n",
    "        - Resource-Based: Everything is treated as a resource, which can be identified by URIs and manipulated using standard HTTP methods.\n",
    "- what is REST api used for?\n",
    "    - REST APIs are used for building web services that allow different applications to communicate with each other over the internet. They enable developers to create, read, update, and delete resources in a standardized way. Common use cases include:\n",
    "        - Web and mobile applications: REST APIs are often used to connect front-end applications with back-end services.\n",
    "        - Microservices architecture: REST APIs facilitate communication between different microservices in a distributed system.\n",
    "        - Third-party integrations: Many platforms provide REST APIs to allow external developers to access their data and functionality.\n",
    "        - IoT devices: REST APIs can be used to manage and control Internet of Things (IoT) devices remotely."
   ]
  },
  {
   "cell_type": "markdown",
   "id": "e62e7e9c",
   "metadata": {},
   "source": [
    "- What is SOAP API?\n",
    "    - SOAP (Simple Object Access Protocol) API is a protocol for exchanging structured information in the implementation of web services. It relies on `XML` as its message format and typically uses HTTP or SMTP as its transport protocol. SOAP APIs are designed to be platform-independent and can be used across different programming languages. Key features of SOAP APIs include:\n",
    "        - Strict standards: SOAP has a well-defined set of rules and standards, making it suitable for enterprise-level applications.\n",
    "        - WS-Security: SOAP supports advanced security features, including message integrity and confidentiality.\n",
    "        - Statefulness: Unlike REST, SOAP can maintain state across multiple requests, which can be useful for certain applications.\n",
    "        - Extensibility: SOAP allows for additional features to be added through headers, making it flexible for various use cases."
   ]
  },
  {
   "cell_type": "markdown",
   "id": "f7b16127",
   "metadata": {},
   "source": [
    "- what is difference between framework and library?\n",
    "    - The main difference between a framework and a library lies in the control flow and how they are used in software development:\n",
    "        - Framework: A framework provides a skeleton or structure for an application, dictating the overall architecture and flow of control. Developers build their applications within the framework, which calls their code at specific points. Examples include Angular, React (in some contexts), and Django.\n",
    "        - Library: A library is a collection of pre-written code that developers can use to perform specific tasks. It provides functionality that can be called upon as needed, without enforcing a particular structure or flow. Examples include jQuery, Lodash, and NumPy.\n",
    "    - In summary, when using a framework, the framework controls the flow of the application, while with a library, the developer has control over when and how to use the library's functions."
   ]
  },
  {
   "cell_type": "markdown",
   "id": "a7954446",
   "metadata": {},
   "source": [
    "- What is  Stripes?\n",
    "    - Stripe is a technology company that provides a suite of `payment processing solutions for online businesses`. It offers APIs and tools that enable developers to integrate payment processing capabilities into their websites and applications. Key features of Stripe include:\n",
    "        - Payment processing: Accepts various payment methods, including credit cards, debit cards, and digital wallets.\n",
    "        - Subscription management: Supports recurring billing and subscription-based services.\n",
    "        - Fraud prevention: Provides tools to detect and prevent fraudulent transactions.\n",
    "        - Reporting and analytics: Offers insights into transaction data and business performance.\n",
    "        - Global reach: Supports multiple currencies and payment methods, making it suitable for businesses operating internationally.\n",
    " \n",
    "-  SendGrid\n",
    "    - SendGrid is a `cloud-based email delivery service` that provides a platform for sending transactional and marketing emails. It offers APIs and tools to help developers integrate email functionality into their applications. Key features of SendGrid include:\n",
    "        - Email delivery: Reliable and scalable email delivery infrastructure to ensure high deliverability rates.\n",
    "        - Email templates: Allows users to create and manage customizable email templates for consistent branding.\n",
    "        - Analytics and reporting: Provides insights into email performance, including open rates, click-through rates, and bounce rates.\n",
    "        - SMTP relay: Supports sending emails through a simple SMTP interface.\n",
    "        - Compliance and security: Ensures compliance with email regulations and provides security features to protect against spam and phishing attacks."
   ]
  },
  {
   "cell_type": "markdown",
   "id": "e5077b93",
   "metadata": {},
   "source": [
    "- react vs vite?\n",
    "    - React and Vite serve different purposes in web development:\n",
    "        - React: A JavaScript library for building user interfaces, particularly single-page applications (SPAs). It allows developers to create reusable UI components and manage the state of applications efficiently.\n",
    "        - Vite: A modern build tool and development server that focuses on fast development and optimized production builds. It is designed to work seamlessly with frameworks like React, Vue, and others, providing features like hot module replacement (HMR) for a better development experience.\n",
    "    - In summary, React is used for building UI components, while Vite is a tool that enhances the development workflow and build process for applications built with React or other frameworks.\n",
    "- what is SPA?(doubt)\n",
    "    - SPA (Single Page Application) is a web application or website that interacts with the user by dynamically rewriting the current page, rather than loading entire new pages from the server. This approach allows for a more fluid and responsive user experience, as only the necessary content is updated without requiring a full page reload. Key characteristics of SPAs include:\n",
    "        - Client-side routing: SPAs use client-side routing to manage navigation within the application, often using libraries like React Router or Vue Router.\n",
    "        - Asynchronous data loading: SPAs typically fetch data asynchronously using AJAX or APIs, allowing for real-time updates without disrupting the user experience.\n",
    "        - Improved performance: By minimizing full page reloads, SPAs can provide faster interactions and a smoother user experience.\n",
    "        - Rich user interfaces: SPAs often leverage modern JavaScript frameworks like React, Angular, or Vue.js to create dynamic and interactive UIs.\n",
    "\n",
    "- why react is fast?\n",
    "    - React is considered fast for several reasons:\n",
    "        - Virtual DOM: React uses a virtual representation of the DOM, which allows it to efficiently update only the parts of the UI that have changed, rather than re-rendering the entire page. This minimizes the number of direct manipulations to the actual DOM, which can be slow.\n",
    "        - Reconciliation algorithm: React's reconciliation algorithm efficiently determines what changes need to be made to the DOM by comparing the current virtual DOM with the previous one, resulting in minimal updates.\n",
    "        - Component-based architecture: React's component-based structure promotes reusability and modularity, allowing developers to optimize individual components for performance.\n",
    "        - Asynchronous rendering: React can defer updates and prioritize rendering tasks, ensuring that high-priority updates are processed first, leading to a more responsive user interface.\n",
    "        - Optimized rendering: React provides features like `shouldComponentUpdate` and `React.memo` that allow developers to control when components should re-render, further enhancing performance.\n"
   ]
  },
  {
   "cell_type": "markdown",
   "id": "21f6d195",
   "metadata": {},
   "source": [
    "- sync vs async?\n",
    "    - Synchronous (sync) and asynchronous (async) programming are two different approaches to handling operations, particularly in the context of I/O operations like network requests or file reading/writing:\n",
    "        - Synchronous (sync): In synchronous programming, operations are executed sequentially, meaning that each operation must complete before the next one starts. This can lead to blocking behavior, where the program waits for an operation to finish before proceeding. For example, if a synchronous function makes a network request, the program will pause until the response is received.\n",
    "        - Asynchronous (async): In asynchronous programming, operations can be initiated without waiting for them to complete. This allows the program to continue executing other tasks while waiting for the asynchronous operation to finish. Asynchronous functions often use callbacks, promises, or async/await syntax to handle the results once they are available. This approach improves responsiveness and allows for better resource utilization."
   ]
  }
 ],
 "metadata": {
  "language_info": {
   "name": "python"
  }
 },
 "nbformat": 4,
 "nbformat_minor": 5
}
