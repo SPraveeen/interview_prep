{
 "cells": [
  {
   "cell_type": "markdown",
   "id": "cd4f4d79",
   "metadata": {},
   "source": [
    "- what is REST api?\n",
    "    - REST (Representational State Transfer) API is an architectural style for designing networked applications. It relies on a stateless, client-server communication model, where requests from clients to servers are made using standard HTTP methods such as GET, POST, PUT, DELETE, etc. REST APIs use URIs (Uniform Resource Identifiers) to identify resources and typically return data in formats like `JSON or XML`. The key principles of REST include:\n",
    "        - Statelessness: Each request from a client contains all the information needed to understand and process the request, without relying on stored context on the server.\n",
    "        - Client-Server Separation: The client and server are independent of each other, allowing for flexibility in development and deployment.\n",
    "        - Uniform Interface: REST APIs have a consistent and standardized way of interacting with resources, making it easier for developers to understand and use them.\n",
    "        - Resource-Based: Everything is treated as a resource, which can be identified by URIs and manipulated using standard HTTP methods.\n",
    "- what is REST api used for?\n",
    "    - REST APIs are used for building web services that allow different applications to communicate with each other over the internet. They enable developers to create, read, update, and delete resources in a standardized way. Common use cases include:\n",
    "        - Web and mobile applications: REST APIs are often used to connect front-end applications with back-end services.\n",
    "        - Microservices architecture: REST APIs facilitate communication between different microservices in a distributed system.\n",
    "        - Third-party integrations: Many platforms provide REST APIs to allow external developers to access their data and functionality.\n",
    "        - IoT devices: REST APIs can be used to manage and control Internet of Things (IoT) devices remotely."
   ]
  },
  {
   "cell_type": "markdown",
   "id": "e62e7e9c",
   "metadata": {},
   "source": [
    "- What is SOAP API?\n",
    "    - SOAP (Simple Object Access Protocol) API is a protocol for exchanging structured information in the implementation of web services. It relies on `XML` as its message format and typically uses HTTP or SMTP as its transport protocol. SOAP APIs are designed to be platform-independent and can be used across different programming languages. Key features of SOAP APIs include:\n",
    "        - Strict standards: SOAP has a well-defined set of rules and standards, making it suitable for enterprise-level applications.\n",
    "        - WS-Security: SOAP supports advanced security features, including message integrity and confidentiality.\n",
    "        - Statefulness: Unlike REST, SOAP can maintain state across multiple requests, which can be useful for certain applications.\n",
    "        - Extensibility: SOAP allows for additional features to be added through headers, making it flexible for various use cases."
   ]
  },
  {
   "cell_type": "markdown",
   "id": "f7b16127",
   "metadata": {},
   "source": [
    "- what is difference between framework and library?\n",
    "    - The main difference between a framework and a library lies in the control flow and how they are used in software development:\n",
    "        - Framework: A framework provides a skeleton or structure for an application, dictating the overall architecture and flow of control. Developers build their applications within the framework, which calls their code at specific points. Examples include Angular, React (in some contexts), and Django.\n",
    "        - Library: A library is a collection of pre-written code that developers can use to perform specific tasks. It provides functionality that can be called upon as needed, without enforcing a particular structure or flow. Examples include jQuery, Lodash, and NumPy.\n",
    "    - In summary, when using a framework, the framework controls the flow of the application, while with a library, the developer has control over when and how to use the library's functions."
   ]
  },
  {
   "cell_type": "markdown",
   "id": "a7954446",
   "metadata": {},
   "source": [
    "- What is  Stripes?\n",
    "    - Stripe is a technology company that provides a suite of `payment processing solutions for online businesses`. It offers APIs and tools that enable developers to integrate payment processing capabilities into their websites and applications. Key features of Stripe include:\n",
    "        - Payment processing: Accepts various payment methods, including credit cards, debit cards, and digital wallets.\n",
    "        - Subscription management: Supports recurring billing and subscription-based services.\n",
    "        - Fraud prevention: Provides tools to detect and prevent fraudulent transactions.\n",
    "        - Reporting and analytics: Offers insights into transaction data and business performance.\n",
    "        - Global reach: Supports multiple currencies and payment methods, making it suitable for businesses operating internationally.\n",
    " \n",
    "-  SendGrid\n",
    "    - SendGrid is a `cloud-based email delivery service` that provides a platform for sending transactional and marketing emails. It offers APIs and tools to help developers integrate email functionality into their applications. Key features of SendGrid include:\n",
    "        - Email delivery: Reliable and scalable email delivery infrastructure to ensure high deliverability rates.\n",
    "        - Email templates: Allows users to create and manage customizable email templates for consistent branding.\n",
    "        - Analytics and reporting: Provides insights into email performance, including open rates, click-through rates, and bounce rates.\n",
    "        - SMTP relay: Supports sending emails through a simple SMTP interface.\n",
    "        - Compliance and security: Ensures compliance with email regulations and provides security features to protect against spam and phishing attacks."
   ]
  },
  {
   "cell_type": "markdown",
   "id": "e5077b93",
   "metadata": {},
   "source": []
  }
 ],
 "metadata": {
  "language_info": {
   "name": "python"
  }
 },
 "nbformat": 4,
 "nbformat_minor": 5
}
